{
 "cells": [
  {
   "cell_type": "code",
   "execution_count": 1,
   "id": "c727474d",
   "metadata": {},
   "outputs": [],
   "source": [
    "import numpy as np\n",
    "import pandas as pd\n",
    "import matplotlib.pyplot as plt \n",
    "import seaborn as sns\n"
   ]
  },
  {
   "cell_type": "code",
   "execution_count": 2,
   "id": "509d48b8",
   "metadata": {},
   "outputs": [
    {
     "data": {
      "text/html": [
       "<div>\n",
       "<style scoped>\n",
       "    .dataframe tbody tr th:only-of-type {\n",
       "        vertical-align: middle;\n",
       "    }\n",
       "\n",
       "    .dataframe tbody tr th {\n",
       "        vertical-align: top;\n",
       "    }\n",
       "\n",
       "    .dataframe thead th {\n",
       "        text-align: right;\n",
       "    }\n",
       "</style>\n",
       "<table border=\"1\" class=\"dataframe\">\n",
       "  <thead>\n",
       "    <tr style=\"text-align: right;\">\n",
       "      <th></th>\n",
       "      <th>model_name</th>\n",
       "      <th>price</th>\n",
       "      <th>CC</th>\n",
       "      <th>mileage</th>\n",
       "      <th>type_of_bike</th>\n",
       "      <th>weight_in_kg</th>\n",
       "      <th>links</th>\n",
       "      <th>acceleration_speed</th>\n",
       "      <th>top_speed</th>\n",
       "    </tr>\n",
       "  </thead>\n",
       "  <tbody>\n",
       "    <tr>\n",
       "      <th>0</th>\n",
       "      <td>Gravton Motors Quanta</td>\n",
       "      <td>99000</td>\n",
       "      <td>NaN</td>\n",
       "      <td>320.0</td>\n",
       "      <td>Electric Bike</td>\n",
       "      <td>100</td>\n",
       "      <td>https://www.carandbike.com/gravton-motors-bike...</td>\n",
       "      <td>4.2</td>\n",
       "      <td>70.0</td>\n",
       "    </tr>\n",
       "    <tr>\n",
       "      <th>1</th>\n",
       "      <td>Simple Energy One</td>\n",
       "      <td>109999</td>\n",
       "      <td>NaN</td>\n",
       "      <td>236.0</td>\n",
       "      <td>Electric Bike</td>\n",
       "      <td>110</td>\n",
       "      <td>https://www.carandbike.com/simple-energy-bikes...</td>\n",
       "      <td>3.6</td>\n",
       "      <td>100.0</td>\n",
       "    </tr>\n",
       "    <tr>\n",
       "      <th>2</th>\n",
       "      <td>Okaya Classiq</td>\n",
       "      <td>69900</td>\n",
       "      <td>NaN</td>\n",
       "      <td>200.0</td>\n",
       "      <td>Electric Bike</td>\n",
       "      <td>95</td>\n",
       "      <td>https://www.carandbike.com/okaya-bikes/classiq</td>\n",
       "      <td>NaN</td>\n",
       "      <td>25.0</td>\n",
       "    </tr>\n",
       "    <tr>\n",
       "      <th>3</th>\n",
       "      <td>Oben Electric Rorr</td>\n",
       "      <td>102999</td>\n",
       "      <td>NaN</td>\n",
       "      <td>200.0</td>\n",
       "      <td>Electric Bike</td>\n",
       "      <td>120</td>\n",
       "      <td>https://www.carandbike.com/oben-electric-bikes...</td>\n",
       "      <td>3.0</td>\n",
       "      <td>100.0</td>\n",
       "    </tr>\n",
       "    <tr>\n",
       "      <th>4</th>\n",
       "      <td>Ola Electric S1</td>\n",
       "      <td>85099</td>\n",
       "      <td>NaN</td>\n",
       "      <td>181.0</td>\n",
       "      <td>Electric Bike</td>\n",
       "      <td>121</td>\n",
       "      <td>https://www.carandbike.com/ola-electric-bikes/s1</td>\n",
       "      <td>2.9</td>\n",
       "      <td>116.0</td>\n",
       "    </tr>\n",
       "  </tbody>\n",
       "</table>\n",
       "</div>"
      ],
      "text/plain": [
       "              model_name   price  CC  mileage   type_of_bike  weight_in_kg  \\\n",
       "0  Gravton Motors Quanta   99000 NaN    320.0  Electric Bike           100   \n",
       "1      Simple Energy One  109999 NaN    236.0  Electric Bike           110   \n",
       "2          Okaya Classiq   69900 NaN    200.0  Electric Bike            95   \n",
       "3     Oben Electric Rorr  102999 NaN    200.0  Electric Bike           120   \n",
       "4        Ola Electric S1   85099 NaN    181.0  Electric Bike           121   \n",
       "\n",
       "                                               links  acceleration_speed  \\\n",
       "0  https://www.carandbike.com/gravton-motors-bike...                 4.2   \n",
       "1  https://www.carandbike.com/simple-energy-bikes...                 3.6   \n",
       "2     https://www.carandbike.com/okaya-bikes/classiq                 NaN   \n",
       "3  https://www.carandbike.com/oben-electric-bikes...                 3.0   \n",
       "4   https://www.carandbike.com/ola-electric-bikes/s1                 2.9   \n",
       "\n",
       "   top_speed  \n",
       "0       70.0  \n",
       "1      100.0  \n",
       "2       25.0  \n",
       "3      100.0  \n",
       "4      116.0  "
      ]
     },
     "execution_count": 2,
     "metadata": {},
     "output_type": "execute_result"
    }
   ],
   "source": [
    "df = pd.read_csv('bike_dataset.csv')\n",
    "df.head()"
   ]
  },
  {
   "cell_type": "code",
   "execution_count": 3,
   "id": "40af190b",
   "metadata": {},
   "outputs": [
    {
     "name": "stdout",
     "output_type": "stream",
     "text": [
      "<class 'pandas.core.frame.DataFrame'>\n",
      "RangeIndex: 361 entries, 0 to 360\n",
      "Data columns (total 9 columns):\n",
      " #   Column              Non-Null Count  Dtype  \n",
      "---  ------              --------------  -----  \n",
      " 0   model_name          361 non-null    object \n",
      " 1   price               361 non-null    int64  \n",
      " 2   CC                  304 non-null    float64\n",
      " 3   mileage             361 non-null    float64\n",
      " 4   type_of_bike        361 non-null    object \n",
      " 5   weight_in_kg        361 non-null    int64  \n",
      " 6   links               361 non-null    object \n",
      " 7   acceleration_speed  170 non-null    float64\n",
      " 8   top_speed           200 non-null    float64\n",
      "dtypes: float64(4), int64(2), object(3)\n",
      "memory usage: 25.5+ KB\n"
     ]
    }
   ],
   "source": [
    "df.info()"
   ]
  },
  {
   "cell_type": "code",
   "execution_count": 4,
   "id": "86704ff9",
   "metadata": {},
   "outputs": [
    {
     "data": {
      "text/html": [
       "<div>\n",
       "<style scoped>\n",
       "    .dataframe tbody tr th:only-of-type {\n",
       "        vertical-align: middle;\n",
       "    }\n",
       "\n",
       "    .dataframe tbody tr th {\n",
       "        vertical-align: top;\n",
       "    }\n",
       "\n",
       "    .dataframe thead th {\n",
       "        text-align: right;\n",
       "    }\n",
       "</style>\n",
       "<table border=\"1\" class=\"dataframe\">\n",
       "  <thead>\n",
       "    <tr style=\"text-align: right;\">\n",
       "      <th></th>\n",
       "      <th>price</th>\n",
       "      <th>CC</th>\n",
       "      <th>mileage</th>\n",
       "      <th>weight_in_kg</th>\n",
       "      <th>acceleration_speed</th>\n",
       "      <th>top_speed</th>\n",
       "    </tr>\n",
       "  </thead>\n",
       "  <tbody>\n",
       "    <tr>\n",
       "      <th>count</th>\n",
       "      <td>3.610000e+02</td>\n",
       "      <td>304.000000</td>\n",
       "      <td>361.000000</td>\n",
       "      <td>361.000000</td>\n",
       "      <td>170.000000</td>\n",
       "      <td>200.000000</td>\n",
       "    </tr>\n",
       "    <tr>\n",
       "      <th>mean</th>\n",
       "      <td>8.399079e+05</td>\n",
       "      <td>680.973684</td>\n",
       "      <td>44.681413</td>\n",
       "      <td>178.839335</td>\n",
       "      <td>4.193412</td>\n",
       "      <td>99.338650</td>\n",
       "    </tr>\n",
       "    <tr>\n",
       "      <th>std</th>\n",
       "      <td>1.052083e+06</td>\n",
       "      <td>547.744364</td>\n",
       "      <td>39.890270</td>\n",
       "      <td>73.839516</td>\n",
       "      <td>2.369334</td>\n",
       "      <td>39.631992</td>\n",
       "    </tr>\n",
       "    <tr>\n",
       "      <th>min</th>\n",
       "      <td>3.800000e+04</td>\n",
       "      <td>87.800000</td>\n",
       "      <td>8.000000</td>\n",
       "      <td>55.000000</td>\n",
       "      <td>1.010000</td>\n",
       "      <td>25.000000</td>\n",
       "    </tr>\n",
       "    <tr>\n",
       "      <th>25%</th>\n",
       "      <td>1.000000e+05</td>\n",
       "      <td>164.425000</td>\n",
       "      <td>20.000000</td>\n",
       "      <td>118.000000</td>\n",
       "      <td>2.800000</td>\n",
       "      <td>79.500000</td>\n",
       "    </tr>\n",
       "    <tr>\n",
       "      <th>50%</th>\n",
       "      <td>2.420000e+05</td>\n",
       "      <td>618.000000</td>\n",
       "      <td>30.000000</td>\n",
       "      <td>169.000000</td>\n",
       "      <td>3.215000</td>\n",
       "      <td>100.000000</td>\n",
       "    </tr>\n",
       "    <tr>\n",
       "      <th>75%</th>\n",
       "      <td>1.459000e+06</td>\n",
       "      <td>1051.500000</td>\n",
       "      <td>55.000000</td>\n",
       "      <td>216.000000</td>\n",
       "      <td>5.075000</td>\n",
       "      <td>129.115000</td>\n",
       "    </tr>\n",
       "    <tr>\n",
       "      <th>max</th>\n",
       "      <td>7.990000e+06</td>\n",
       "      <td>2458.000000</td>\n",
       "      <td>320.000000</td>\n",
       "      <td>433.000000</td>\n",
       "      <td>13.800000</td>\n",
       "      <td>200.000000</td>\n",
       "    </tr>\n",
       "  </tbody>\n",
       "</table>\n",
       "</div>"
      ],
      "text/plain": [
       "              price           CC     mileage  weight_in_kg  \\\n",
       "count  3.610000e+02   304.000000  361.000000    361.000000   \n",
       "mean   8.399079e+05   680.973684   44.681413    178.839335   \n",
       "std    1.052083e+06   547.744364   39.890270     73.839516   \n",
       "min    3.800000e+04    87.800000    8.000000     55.000000   \n",
       "25%    1.000000e+05   164.425000   20.000000    118.000000   \n",
       "50%    2.420000e+05   618.000000   30.000000    169.000000   \n",
       "75%    1.459000e+06  1051.500000   55.000000    216.000000   \n",
       "max    7.990000e+06  2458.000000  320.000000    433.000000   \n",
       "\n",
       "       acceleration_speed   top_speed  \n",
       "count          170.000000  200.000000  \n",
       "mean             4.193412   99.338650  \n",
       "std              2.369334   39.631992  \n",
       "min              1.010000   25.000000  \n",
       "25%              2.800000   79.500000  \n",
       "50%              3.215000  100.000000  \n",
       "75%              5.075000  129.115000  \n",
       "max             13.800000  200.000000  "
      ]
     },
     "execution_count": 4,
     "metadata": {},
     "output_type": "execute_result"
    }
   ],
   "source": [
    "df.describe()"
   ]
  },
  {
   "cell_type": "code",
   "execution_count": 5,
   "id": "8453163f",
   "metadata": {},
   "outputs": [
    {
     "data": {
      "text/plain": [
       "model_name              0\n",
       "price                   0\n",
       "CC                     57\n",
       "mileage                 0\n",
       "type_of_bike            0\n",
       "weight_in_kg            0\n",
       "links                   0\n",
       "acceleration_speed    191\n",
       "top_speed             161\n",
       "dtype: int64"
      ]
     },
     "execution_count": 5,
     "metadata": {},
     "output_type": "execute_result"
    }
   ],
   "source": [
    "df.isnull().sum()"
   ]
  },
  {
   "cell_type": "markdown",
   "id": "d0c2eb19",
   "metadata": {},
   "source": [
    "### Imputing missing values through mean , median , mode or constant"
   ]
  },
  {
   "cell_type": "code",
   "execution_count": 6,
   "id": "ac6cca79",
   "metadata": {},
   "outputs": [
    {
     "data": {
      "text/plain": [
       "model_name              0\n",
       "price                   0\n",
       "CC                     57\n",
       "mileage                 0\n",
       "type_of_bike            0\n",
       "weight_in_kg            0\n",
       "links                   0\n",
       "acceleration_speed    191\n",
       "top_speed             161\n",
       "dtype: int64"
      ]
     },
     "execution_count": 6,
     "metadata": {},
     "output_type": "execute_result"
    }
   ],
   "source": [
    "df1 = df.copy()\n",
    "df1.isnull().sum()"
   ]
  },
  {
   "cell_type": "code",
   "execution_count": 7,
   "id": "af2fc706",
   "metadata": {},
   "outputs": [
    {
     "name": "stderr",
     "output_type": "stream",
     "text": [
      "C:\\Users\\deepak\\AppData\\Local\\Temp\\ipykernel_8644\\4159649999.py:2: FutureWarning: Dropping of nuisance columns in DataFrame reductions (with 'numeric_only=None') is deprecated; in a future version this will raise TypeError.  Select only valid columns before calling the reduction.\n",
      "  df1.fillna(df1.median(),inplace = True)\n"
     ]
    }
   ],
   "source": [
    "# can use mean , median , mode or constant value to fill-\n",
    "df1.fillna(df1.median(),inplace = True)"
   ]
  },
  {
   "cell_type": "code",
   "execution_count": 8,
   "id": "b58d386b",
   "metadata": {},
   "outputs": [
    {
     "data": {
      "text/plain": [
       "model_name            0\n",
       "price                 0\n",
       "CC                    0\n",
       "mileage               0\n",
       "type_of_bike          0\n",
       "weight_in_kg          0\n",
       "links                 0\n",
       "acceleration_speed    0\n",
       "top_speed             0\n",
       "dtype: int64"
      ]
     },
     "execution_count": 8,
     "metadata": {},
     "output_type": "execute_result"
    }
   ],
   "source": [
    "df1.isnull().sum()"
   ]
  },
  {
   "cell_type": "markdown",
   "id": "baf765fa",
   "metadata": {},
   "source": [
    "### Imputation Using (Mean/Median) Values- using SimpleImpute Class"
   ]
  },
  {
   "cell_type": "code",
   "execution_count": 9,
   "id": "9830dfff",
   "metadata": {},
   "outputs": [
    {
     "data": {
      "text/html": [
       "<div>\n",
       "<style scoped>\n",
       "    .dataframe tbody tr th:only-of-type {\n",
       "        vertical-align: middle;\n",
       "    }\n",
       "\n",
       "    .dataframe tbody tr th {\n",
       "        vertical-align: top;\n",
       "    }\n",
       "\n",
       "    .dataframe thead th {\n",
       "        text-align: right;\n",
       "    }\n",
       "</style>\n",
       "<table border=\"1\" class=\"dataframe\">\n",
       "  <thead>\n",
       "    <tr style=\"text-align: right;\">\n",
       "      <th></th>\n",
       "      <th>model_name</th>\n",
       "      <th>price</th>\n",
       "      <th>CC</th>\n",
       "      <th>mileage</th>\n",
       "      <th>type_of_bike</th>\n",
       "      <th>weight_in_kg</th>\n",
       "      <th>links</th>\n",
       "      <th>acceleration_speed</th>\n",
       "      <th>top_speed</th>\n",
       "    </tr>\n",
       "  </thead>\n",
       "  <tbody>\n",
       "    <tr>\n",
       "      <th>0</th>\n",
       "      <td>Gravton Motors Quanta</td>\n",
       "      <td>99000</td>\n",
       "      <td>NaN</td>\n",
       "      <td>320.0</td>\n",
       "      <td>Electric Bike</td>\n",
       "      <td>100</td>\n",
       "      <td>https://www.carandbike.com/gravton-motors-bike...</td>\n",
       "      <td>4.2</td>\n",
       "      <td>70.0</td>\n",
       "    </tr>\n",
       "    <tr>\n",
       "      <th>1</th>\n",
       "      <td>Simple Energy One</td>\n",
       "      <td>109999</td>\n",
       "      <td>NaN</td>\n",
       "      <td>236.0</td>\n",
       "      <td>Electric Bike</td>\n",
       "      <td>110</td>\n",
       "      <td>https://www.carandbike.com/simple-energy-bikes...</td>\n",
       "      <td>3.6</td>\n",
       "      <td>100.0</td>\n",
       "    </tr>\n",
       "    <tr>\n",
       "      <th>2</th>\n",
       "      <td>Okaya Classiq</td>\n",
       "      <td>69900</td>\n",
       "      <td>NaN</td>\n",
       "      <td>200.0</td>\n",
       "      <td>Electric Bike</td>\n",
       "      <td>95</td>\n",
       "      <td>https://www.carandbike.com/okaya-bikes/classiq</td>\n",
       "      <td>NaN</td>\n",
       "      <td>25.0</td>\n",
       "    </tr>\n",
       "    <tr>\n",
       "      <th>3</th>\n",
       "      <td>Oben Electric Rorr</td>\n",
       "      <td>102999</td>\n",
       "      <td>NaN</td>\n",
       "      <td>200.0</td>\n",
       "      <td>Electric Bike</td>\n",
       "      <td>120</td>\n",
       "      <td>https://www.carandbike.com/oben-electric-bikes...</td>\n",
       "      <td>3.0</td>\n",
       "      <td>100.0</td>\n",
       "    </tr>\n",
       "    <tr>\n",
       "      <th>4</th>\n",
       "      <td>Ola Electric S1</td>\n",
       "      <td>85099</td>\n",
       "      <td>NaN</td>\n",
       "      <td>181.0</td>\n",
       "      <td>Electric Bike</td>\n",
       "      <td>121</td>\n",
       "      <td>https://www.carandbike.com/ola-electric-bikes/s1</td>\n",
       "      <td>2.9</td>\n",
       "      <td>116.0</td>\n",
       "    </tr>\n",
       "  </tbody>\n",
       "</table>\n",
       "</div>"
      ],
      "text/plain": [
       "              model_name   price  CC  mileage   type_of_bike  weight_in_kg  \\\n",
       "0  Gravton Motors Quanta   99000 NaN    320.0  Electric Bike           100   \n",
       "1      Simple Energy One  109999 NaN    236.0  Electric Bike           110   \n",
       "2          Okaya Classiq   69900 NaN    200.0  Electric Bike            95   \n",
       "3     Oben Electric Rorr  102999 NaN    200.0  Electric Bike           120   \n",
       "4        Ola Electric S1   85099 NaN    181.0  Electric Bike           121   \n",
       "\n",
       "                                               links  acceleration_speed  \\\n",
       "0  https://www.carandbike.com/gravton-motors-bike...                 4.2   \n",
       "1  https://www.carandbike.com/simple-energy-bikes...                 3.6   \n",
       "2     https://www.carandbike.com/okaya-bikes/classiq                 NaN   \n",
       "3  https://www.carandbike.com/oben-electric-bikes...                 3.0   \n",
       "4   https://www.carandbike.com/ola-electric-bikes/s1                 2.9   \n",
       "\n",
       "   top_speed  \n",
       "0       70.0  \n",
       "1      100.0  \n",
       "2       25.0  \n",
       "3      100.0  \n",
       "4      116.0  "
      ]
     },
     "execution_count": 9,
     "metadata": {},
     "output_type": "execute_result"
    }
   ],
   "source": [
    "mean_imputed_df = df.copy()\n",
    "mean_imputed_df.head()"
   ]
  },
  {
   "cell_type": "code",
   "execution_count": 10,
   "id": "1b4c7617",
   "metadata": {},
   "outputs": [],
   "source": [
    "# mean/median only for numeric features,  strategy='most_frequent' or mode for categorical features\n",
    "from sklearn.impute import SimpleImputer\n",
    "si = SimpleImputer( strategy='median') #for median imputation replace 'mean' with 'median'\n",
    "mean_imputed_df['CC'] = si.fit_transform(mean_imputed_df[['CC']]) # mean_imputed_df['CC'].values.reshape(-1,1)\n"
   ]
  },
  {
   "cell_type": "code",
   "execution_count": 11,
   "id": "bfa232e0",
   "metadata": {},
   "outputs": [
    {
     "data": {
      "text/plain": [
       "model_name              0\n",
       "price                   0\n",
       "CC                      0\n",
       "mileage                 0\n",
       "type_of_bike            0\n",
       "weight_in_kg            0\n",
       "links                   0\n",
       "acceleration_speed    191\n",
       "top_speed             161\n",
       "dtype: int64"
      ]
     },
     "execution_count": 11,
     "metadata": {},
     "output_type": "execute_result"
    }
   ],
   "source": [
    "mean_imputed_df.isnull().sum()"
   ]
  },
  {
   "cell_type": "code",
   "execution_count": null,
   "id": "0b34256e",
   "metadata": {},
   "outputs": [],
   "source": [
    "# importing data with some more nan values in type_of_bike col-"
   ]
  },
  {
   "cell_type": "code",
   "execution_count": 12,
   "id": "b7e62c55",
   "metadata": {},
   "outputs": [
    {
     "data": {
      "text/html": [
       "<div>\n",
       "<style scoped>\n",
       "    .dataframe tbody tr th:only-of-type {\n",
       "        vertical-align: middle;\n",
       "    }\n",
       "\n",
       "    .dataframe tbody tr th {\n",
       "        vertical-align: top;\n",
       "    }\n",
       "\n",
       "    .dataframe thead th {\n",
       "        text-align: right;\n",
       "    }\n",
       "</style>\n",
       "<table border=\"1\" class=\"dataframe\">\n",
       "  <thead>\n",
       "    <tr style=\"text-align: right;\">\n",
       "      <th></th>\n",
       "      <th>model_name</th>\n",
       "      <th>price</th>\n",
       "      <th>CC</th>\n",
       "      <th>mileage</th>\n",
       "      <th>type_of_bike</th>\n",
       "      <th>weight_in_kg</th>\n",
       "      <th>links</th>\n",
       "      <th>acceleration_speed</th>\n",
       "      <th>top_speed</th>\n",
       "    </tr>\n",
       "  </thead>\n",
       "  <tbody>\n",
       "    <tr>\n",
       "      <th>0</th>\n",
       "      <td>Gravton Motors Quanta</td>\n",
       "      <td>99000</td>\n",
       "      <td>NaN</td>\n",
       "      <td>320.0</td>\n",
       "      <td>Electric Bike</td>\n",
       "      <td>100</td>\n",
       "      <td>https://www.carandbike.com/gravton-motors-bike...</td>\n",
       "      <td>4.2</td>\n",
       "      <td>70.0</td>\n",
       "    </tr>\n",
       "    <tr>\n",
       "      <th>1</th>\n",
       "      <td>Simple Energy One</td>\n",
       "      <td>109999</td>\n",
       "      <td>NaN</td>\n",
       "      <td>236.0</td>\n",
       "      <td>Electric Bike</td>\n",
       "      <td>110</td>\n",
       "      <td>https://www.carandbike.com/simple-energy-bikes...</td>\n",
       "      <td>3.6</td>\n",
       "      <td>100.0</td>\n",
       "    </tr>\n",
       "    <tr>\n",
       "      <th>2</th>\n",
       "      <td>Okaya Classiq</td>\n",
       "      <td>69900</td>\n",
       "      <td>NaN</td>\n",
       "      <td>200.0</td>\n",
       "      <td>Electric Bike</td>\n",
       "      <td>95</td>\n",
       "      <td>https://www.carandbike.com/okaya-bikes/classiq</td>\n",
       "      <td>NaN</td>\n",
       "      <td>25.0</td>\n",
       "    </tr>\n",
       "    <tr>\n",
       "      <th>3</th>\n",
       "      <td>Oben Electric Rorr</td>\n",
       "      <td>102999</td>\n",
       "      <td>NaN</td>\n",
       "      <td>200.0</td>\n",
       "      <td>Electric Bike</td>\n",
       "      <td>120</td>\n",
       "      <td>https://www.carandbike.com/oben-electric-bikes...</td>\n",
       "      <td>3.0</td>\n",
       "      <td>100.0</td>\n",
       "    </tr>\n",
       "    <tr>\n",
       "      <th>4</th>\n",
       "      <td>Ola Electric S1</td>\n",
       "      <td>85099</td>\n",
       "      <td>NaN</td>\n",
       "      <td>181.0</td>\n",
       "      <td>Electric Bike</td>\n",
       "      <td>121</td>\n",
       "      <td>https://www.carandbike.com/ola-electric-bikes/s1</td>\n",
       "      <td>2.9</td>\n",
       "      <td>116.0</td>\n",
       "    </tr>\n",
       "  </tbody>\n",
       "</table>\n",
       "</div>"
      ],
      "text/plain": [
       "              model_name   price  CC  mileage   type_of_bike  weight_in_kg  \\\n",
       "0  Gravton Motors Quanta   99000 NaN    320.0  Electric Bike           100   \n",
       "1      Simple Energy One  109999 NaN    236.0  Electric Bike           110   \n",
       "2          Okaya Classiq   69900 NaN    200.0  Electric Bike            95   \n",
       "3     Oben Electric Rorr  102999 NaN    200.0  Electric Bike           120   \n",
       "4        Ola Electric S1   85099 NaN    181.0  Electric Bike           121   \n",
       "\n",
       "                                               links  acceleration_speed  \\\n",
       "0  https://www.carandbike.com/gravton-motors-bike...                 4.2   \n",
       "1  https://www.carandbike.com/simple-energy-bikes...                 3.6   \n",
       "2     https://www.carandbike.com/okaya-bikes/classiq                 NaN   \n",
       "3  https://www.carandbike.com/oben-electric-bikes...                 3.0   \n",
       "4   https://www.carandbike.com/ola-electric-bikes/s1                 2.9   \n",
       "\n",
       "   top_speed  \n",
       "0       70.0  \n",
       "1      100.0  \n",
       "2       25.0  \n",
       "3      100.0  \n",
       "4      116.0  "
      ]
     },
     "execution_count": 12,
     "metadata": {},
     "output_type": "execute_result"
    }
   ],
   "source": [
    "df2 = pd.read_csv('bike_dataset2.csv')\n",
    "df2.head()"
   ]
  },
  {
   "cell_type": "code",
   "execution_count": 13,
   "id": "056755d0",
   "metadata": {
    "scrolled": true
   },
   "outputs": [
    {
     "data": {
      "text/plain": [
       "model_name              0\n",
       "price                   0\n",
       "CC                     57\n",
       "mileage                 0\n",
       "type_of_bike           10\n",
       "weight_in_kg            0\n",
       "links                   0\n",
       "acceleration_speed    191\n",
       "top_speed             161\n",
       "dtype: int64"
      ]
     },
     "execution_count": 13,
     "metadata": {},
     "output_type": "execute_result"
    }
   ],
   "source": [
    "df2.isnull().sum()"
   ]
  },
  {
   "cell_type": "code",
   "execution_count": 14,
   "id": "9242a19d",
   "metadata": {},
   "outputs": [],
   "source": [
    "# df.fillna is much easier way of imputing missing values than SimpleImputer\n",
    "df2['top_speed'].fillna(df2['top_speed'].mean(),inplace = True)"
   ]
  },
  {
   "cell_type": "code",
   "execution_count": 15,
   "id": "b3474f6a",
   "metadata": {},
   "outputs": [
    {
     "data": {
      "text/plain": [
       "model_name              0\n",
       "price                   0\n",
       "CC                     57\n",
       "mileage                 0\n",
       "type_of_bike           10\n",
       "weight_in_kg            0\n",
       "links                   0\n",
       "acceleration_speed    191\n",
       "top_speed               0\n",
       "dtype: int64"
      ]
     },
     "execution_count": 15,
     "metadata": {},
     "output_type": "execute_result"
    }
   ],
   "source": [
    "df2.isnull().sum()"
   ]
  },
  {
   "cell_type": "code",
   "execution_count": null,
   "id": "6d62f4ec",
   "metadata": {},
   "outputs": [],
   "source": []
  },
  {
   "cell_type": "code",
   "execution_count": 16,
   "id": "3f142551",
   "metadata": {},
   "outputs": [],
   "source": [
    "# mode for categorical col , strategy = 'most_frequent'-\n",
    "from sklearn.impute import SimpleImputer\n",
    "si = SimpleImputer(strategy = 'most_frequent')\n",
    "df2['type_of_bike'] = si.fit_transform(df2[['type_of_bike']])"
   ]
  },
  {
   "cell_type": "code",
   "execution_count": 17,
   "id": "f3ea02a6",
   "metadata": {},
   "outputs": [
    {
     "data": {
      "text/plain": [
       "model_name              0\n",
       "price                   0\n",
       "CC                     57\n",
       "mileage                 0\n",
       "type_of_bike            0\n",
       "weight_in_kg            0\n",
       "links                   0\n",
       "acceleration_speed    191\n",
       "top_speed               0\n",
       "dtype: int64"
      ]
     },
     "execution_count": 17,
     "metadata": {},
     "output_type": "execute_result"
    }
   ],
   "source": [
    "df2.isnull().sum()"
   ]
  },
  {
   "cell_type": "code",
   "execution_count": null,
   "id": "d2c6109f",
   "metadata": {},
   "outputs": [],
   "source": [
    "# MICE -"
   ]
  },
  {
   "cell_type": "code",
   "execution_count": 82,
   "id": "05a498ee",
   "metadata": {},
   "outputs": [
    {
     "data": {
      "text/html": [
       "<div>\n",
       "<style scoped>\n",
       "    .dataframe tbody tr th:only-of-type {\n",
       "        vertical-align: middle;\n",
       "    }\n",
       "\n",
       "    .dataframe tbody tr th {\n",
       "        vertical-align: top;\n",
       "    }\n",
       "\n",
       "    .dataframe thead th {\n",
       "        text-align: right;\n",
       "    }\n",
       "</style>\n",
       "<table border=\"1\" class=\"dataframe\">\n",
       "  <thead>\n",
       "    <tr style=\"text-align: right;\">\n",
       "      <th></th>\n",
       "      <th>A</th>\n",
       "      <th>B</th>\n",
       "    </tr>\n",
       "  </thead>\n",
       "  <tbody>\n",
       "    <tr>\n",
       "      <th>0</th>\n",
       "      <td>2.0</td>\n",
       "      <td>NaN</td>\n",
       "    </tr>\n",
       "    <tr>\n",
       "      <th>1</th>\n",
       "      <td>3.0</td>\n",
       "      <td>9.0</td>\n",
       "    </tr>\n",
       "    <tr>\n",
       "      <th>2</th>\n",
       "      <td>NaN</td>\n",
       "      <td>16.0</td>\n",
       "    </tr>\n",
       "    <tr>\n",
       "      <th>3</th>\n",
       "      <td>5.0</td>\n",
       "      <td>25.0</td>\n",
       "    </tr>\n",
       "  </tbody>\n",
       "</table>\n",
       "</div>"
      ],
      "text/plain": [
       "     A     B\n",
       "0  2.0   NaN\n",
       "1  3.0   9.0\n",
       "2  NaN  16.0\n",
       "3  5.0  25.0"
      ]
     },
     "execution_count": 82,
     "metadata": {},
     "output_type": "execute_result"
    }
   ],
   "source": [
    "dx = pd.DataFrame({'A': [2, 3, np.nan, 5],\n",
    "                   'B': [np.nan, 9, 16, 25]})\n",
    "dx"
   ]
  },
  {
   "cell_type": "code",
   "execution_count": 74,
   "id": "f340d999",
   "metadata": {},
   "outputs": [
    {
     "data": {
      "text/html": [
       "<div>\n",
       "<style scoped>\n",
       "    .dataframe tbody tr th:only-of-type {\n",
       "        vertical-align: middle;\n",
       "    }\n",
       "\n",
       "    .dataframe tbody tr th {\n",
       "        vertical-align: top;\n",
       "    }\n",
       "\n",
       "    .dataframe thead th {\n",
       "        text-align: right;\n",
       "    }\n",
       "</style>\n",
       "<table border=\"1\" class=\"dataframe\">\n",
       "  <thead>\n",
       "    <tr style=\"text-align: right;\">\n",
       "      <th></th>\n",
       "      <th>A</th>\n",
       "      <th>B</th>\n",
       "      <th>C</th>\n",
       "    </tr>\n",
       "  </thead>\n",
       "  <tbody>\n",
       "    <tr>\n",
       "      <th>0</th>\n",
       "      <td>2.0</td>\n",
       "      <td>NaN</td>\n",
       "      <td>air</td>\n",
       "    </tr>\n",
       "    <tr>\n",
       "      <th>1</th>\n",
       "      <td>3.0</td>\n",
       "      <td>9.0</td>\n",
       "      <td>air</td>\n",
       "    </tr>\n",
       "    <tr>\n",
       "      <th>2</th>\n",
       "      <td>NaN</td>\n",
       "      <td>16.0</td>\n",
       "      <td>water</td>\n",
       "    </tr>\n",
       "    <tr>\n",
       "      <th>3</th>\n",
       "      <td>5.0</td>\n",
       "      <td>25.0</td>\n",
       "      <td>NaN</td>\n",
       "    </tr>\n",
       "  </tbody>\n",
       "</table>\n",
       "</div>"
      ],
      "text/plain": [
       "     A     B      C\n",
       "0  2.0   NaN    air\n",
       "1  3.0   9.0    air\n",
       "2  NaN  16.0  water\n",
       "3  5.0  25.0    NaN"
      ]
     },
     "execution_count": 74,
     "metadata": {},
     "output_type": "execute_result"
    }
   ],
   "source": [
    "dz = pd.DataFrame({'A': [2, 3, np.nan, 5],\n",
    "                   'B': [np.nan, 9, 16, 25],\n",
    "                    'C': ['air','air','water',np.nan]})\n",
    "dz"
   ]
  },
  {
   "cell_type": "code",
   "execution_count": 51,
   "id": "0759bd31",
   "metadata": {},
   "outputs": [],
   "source": [
    "df_mice = dx.copy()"
   ]
  },
  {
   "cell_type": "code",
   "execution_count": 43,
   "id": "6cf690b9",
   "metadata": {},
   "outputs": [
    {
     "data": {
      "text/plain": [
       "array([[ 2., nan],\n",
       "       [ 3.,  9.],\n",
       "       [nan, 16.],\n",
       "       [ 5., 25.]])"
      ]
     },
     "execution_count": 43,
     "metadata": {},
     "output_type": "execute_result"
    }
   ],
   "source": [
    "df_mice.values"
   ]
  },
  {
   "cell_type": "code",
   "execution_count": 44,
   "id": "81695bad",
   "metadata": {},
   "outputs": [
    {
     "data": {
      "text/plain": [
       "A    1\n",
       "B    1\n",
       "dtype: int64"
      ]
     },
     "execution_count": 44,
     "metadata": {},
     "output_type": "execute_result"
    }
   ],
   "source": [
    "df_mice.isnull().sum()"
   ]
  },
  {
   "cell_type": "markdown",
   "id": "e153c5e1",
   "metadata": {},
   "source": [
    "### MICE stands for Multivariate Imputation By Chained Equations algorithm "
   ]
  },
  {
   "cell_type": "markdown",
   "id": "7fe2e6c8",
   "metadata": {},
   "source": [
    "MICE first calculates the mean of every column where there is a missing value and uses the mean value as a placeholder.\n",
    "Then it runs a series of regression models (chained equations) to impute each missing value sequentially.\n",
    "Like in any regression model, MICE uses a feature matrix and target variable to train, and in this case, the target variable\n",
    "is the column with missing values. MICE predicts and updates missing values on target columns.\n",
    "Iteratively, MICE repeats this process several times by constantly changing the placeholder variables with the predictions\n",
    "from the previous iteration. In the end, it reaches a robust estimation.\n",
    "\n",
    "To apply MICE algorithm, we will use IterativeImputer from scikit-learn. This estimator is still under experimental so\n",
    "we must import enable_iterative_imputer.\n"
   ]
  },
  {
   "cell_type": "markdown",
   "id": "423a7690",
   "metadata": {},
   "source": [
    "Working of MICE algorithm-\n",
    "Step 1: Impute all missing values using mean imputation with the mean of their respective columns.\n",
    "We will call this as our \"Zeroth\" dataset\n",
    "Note:\n",
    "We will be imputing the columns from left to right.\n",
    "\n",
    "Step 2: Remove the \"age\" imputed values and keep the imputed values in other columns as shown here.\n",
    "\n",
    "Step 3: The remaining features and rows(top 5 rows of experience and salary) become the feature matrix(purple cells), \"age\" becomes the target variable(yellow cells). We will run the linear regression model on the fully filled rows with X= experience and salary and Y=age. To estimate the missing age, we will use the missing value row (white cells) as the test data.\n",
    "So, top 5 rows will be training data and the last row that has missing age will be test data. We will use (experience = 11 and salary = 130) to predict corresponding \"age\" value.\n",
    "When I did this, I found that my model predicted the age as 34.99.\n",
    "\n",
    "step 4: Update the predicted age value in the missing cell in \"age\" column. Now, remove \"experience\" imputed value. The remaining features and rows becomes the feature matrix(purple cells) and \"experience\" becomes the target variable(yellow cells). We will run the linear regression model on the fully filled rows with X= age and salary and Y=experience. To estimate the missing experience, we will use the missing value row (white cells) as the test data.\n",
    "The predicted value for experience is 0.98.\n",
    "\n",
    "step 5: Update the predicted experience value in the missing cell in \"experience\" column. Now, remove \"salary\" imputed value. The remaining features and rows becomes the feature matrix(purple cells) and \"salary\" becomes the target variable(yellow cells). We will run the linear regression model on the fully filled rows with X= age and experience and Y=salary. To estimate the missing salary, we will use the missing value row (white cells) as the test data.\n",
    "\n",
    "The predicted value for Salary is 70.\n",
    "We will subtract the two datasets(zeroth and first). The resultant dataset is as below:\n",
    "Our aim is to reduce these differences close to 0. To achieve this we have to do many iterations. \n",
    "\n",
    "Now we will use the \"first\" dataset as our base dataset to do imputations, and discard the \"Zeroth\" dataset which had the mean imputations.\n",
    "With \"first\" dataset as base, let's perform all the steps 2-6 and again predict the imputed values for the initial 3 missing values.\n"
   ]
  },
  {
   "attachments": {
    "image.png": {
     "image/png": "[encoded data removed]"
    }
   },
   "cell_type": "markdown",
   "id": "e3b1dfc6",
   "metadata": {},
   "source": [
    "![image.png](attachment:image.png)"
   ]
  },
  {
   "cell_type": "code",
   "execution_count": 51,
   "id": "b685e12f",
   "metadata": {},
   "outputs": [
    {
     "name": "stdout",
     "output_type": "stream",
     "text": [
      "Collecting impyute\n",
      "  Downloading impyute-0.0.8-py2.py3-none-any.whl (31 kB)\n",
      "Requirement already satisfied: scikit-learn in e:\\anaconda\\lib\\site-packages (from impyute) (1.0.2)\n",
      "Requirement already satisfied: scipy in e:\\anaconda\\lib\\site-packages (from impyute) (1.10.0)\n",
      "Requirement already satisfied: numpy in e:\\anaconda\\lib\\site-packages (from impyute) (1.21.5)\n",
      "Requirement already satisfied: joblib>=0.11 in e:\\anaconda\\lib\\site-packages (from scikit-learn->impyute) (1.1.0)\n",
      "Requirement already satisfied: threadpoolctl>=2.0.0 in e:\\anaconda\\lib\\site-packages (from scikit-learn->impyute) (2.2.0)\n",
      "Installing collected packages: impyute\n",
      "Successfully installed impyute-0.0.8\n"
     ]
    }
   ],
   "source": [
    "#!pip install impyute"
   ]
  },
  {
   "cell_type": "code",
   "execution_count": 53,
   "id": "392a00ea",
   "metadata": {},
   "outputs": [],
   "source": [
    "# only for numeric features-\n",
    "from impyute.imputation.cs import mice\n",
    "\n",
    "# start the MICE training\n",
    "df_mice=mice(df_mice.values)"
   ]
  },
  {
   "cell_type": "code",
   "execution_count": 54,
   "id": "84f2fadf",
   "metadata": {},
   "outputs": [
    {
     "data": {
      "text/plain": [
       "array([[ 2.        ,  3.93548387],\n",
       "       [ 3.        ,  9.        ],\n",
       "       [ 3.79703159, 16.        ],\n",
       "       [ 5.        , 25.        ]])"
      ]
     },
     "execution_count": 54,
     "metadata": {},
     "output_type": "execute_result"
    }
   ],
   "source": [
    "df_mice"
   ]
  },
  {
   "cell_type": "code",
   "execution_count": null,
   "id": "537518dd",
   "metadata": {},
   "outputs": [],
   "source": [
    "# Iterative Imputer is also very similar to mice-"
   ]
  },
  {
   "cell_type": "code",
   "execution_count": null,
   "id": "021f3e77",
   "metadata": {},
   "outputs": [],
   "source": []
  },
  {
   "cell_type": "markdown",
   "id": "6ef96838",
   "metadata": {},
   "source": [
    "Iterative Imputer initially initializes the missing values with the value passed for initial_strategy, where the initial strategy is the “mean” for each feature. The imputer then uses an estimator (where the default estimator used is Bayesian Ridge) at each step of the round-robin imputation. At each step, a feature column is chosen as the target variable y and the other feature columns are treated as predictor variables X. The missing values are then predicted for each feature. This process is repeated for at most “max_iter” number of times, where the default is 10 times (rounds). "
   ]
  },
  {
   "cell_type": "code",
   "execution_count": 48,
   "id": "714d9a1a",
   "metadata": {},
   "outputs": [
    {
     "data": {
      "text/html": [
       "<div>\n",
       "<style scoped>\n",
       "    .dataframe tbody tr th:only-of-type {\n",
       "        vertical-align: middle;\n",
       "    }\n",
       "\n",
       "    .dataframe tbody tr th {\n",
       "        vertical-align: top;\n",
       "    }\n",
       "\n",
       "    .dataframe thead th {\n",
       "        text-align: right;\n",
       "    }\n",
       "</style>\n",
       "<table border=\"1\" class=\"dataframe\">\n",
       "  <thead>\n",
       "    <tr style=\"text-align: right;\">\n",
       "      <th></th>\n",
       "      <th>A</th>\n",
       "      <th>B</th>\n",
       "    </tr>\n",
       "  </thead>\n",
       "  <tbody>\n",
       "    <tr>\n",
       "      <th>0</th>\n",
       "      <td>2.00</td>\n",
       "      <td>1.0</td>\n",
       "    </tr>\n",
       "    <tr>\n",
       "      <th>1</th>\n",
       "      <td>3.00</td>\n",
       "      <td>9.0</td>\n",
       "    </tr>\n",
       "    <tr>\n",
       "      <th>2</th>\n",
       "      <td>3.87</td>\n",
       "      <td>16.0</td>\n",
       "    </tr>\n",
       "    <tr>\n",
       "      <th>3</th>\n",
       "      <td>5.00</td>\n",
       "      <td>25.0</td>\n",
       "    </tr>\n",
       "  </tbody>\n",
       "</table>\n",
       "</div>"
      ],
      "text/plain": [
       "      A     B\n",
       "0  2.00   1.0\n",
       "1  3.00   9.0\n",
       "2  3.87  16.0\n",
       "3  5.00  25.0"
      ]
     },
     "execution_count": 48,
     "metadata": {},
     "output_type": "execute_result"
    }
   ],
   "source": [
    "# example of Iterative Imputation - \n",
    "# only for numeric features-\n",
    "from sklearn.experimental import enable_iterative_imputer\n",
    "from sklearn.impute import IterativeImputer\n",
    "\n",
    "dx = pd.DataFrame({'A': [2, 3, np.nan, 5],\n",
    "                   'B': [np.nan, 9, 16, 25]})\n",
    "dx\n",
    "\n",
    "# Setting the random_state argument for reproducibility\n",
    "imputer = IterativeImputer(random_state=42)\n",
    "imputed = imputer.fit_transform(dx)\n",
    "dx = pd.DataFrame(imputed, columns=dx.columns)\n",
    "\n",
    "round(dx, 2)"
   ]
  },
  {
   "cell_type": "code",
   "execution_count": 68,
   "id": "59d34088",
   "metadata": {},
   "outputs": [],
   "source": [
    "imputer = IterativeImputer(random_state=42,initial_strategy='median')\n",
    "imputed = imputer.fit_transform(dz[['B']])\n",
    "dx['B'] = pd.DataFrame(imputed, columns=dx[['B']].columns)"
   ]
  },
  {
   "cell_type": "code",
   "execution_count": 69,
   "id": "64917549",
   "metadata": {},
   "outputs": [
    {
     "data": {
      "text/html": [
       "<div>\n",
       "<style scoped>\n",
       "    .dataframe tbody tr th:only-of-type {\n",
       "        vertical-align: middle;\n",
       "    }\n",
       "\n",
       "    .dataframe tbody tr th {\n",
       "        vertical-align: top;\n",
       "    }\n",
       "\n",
       "    .dataframe thead th {\n",
       "        text-align: right;\n",
       "    }\n",
       "</style>\n",
       "<table border=\"1\" class=\"dataframe\">\n",
       "  <thead>\n",
       "    <tr style=\"text-align: right;\">\n",
       "      <th></th>\n",
       "      <th>A</th>\n",
       "      <th>B</th>\n",
       "    </tr>\n",
       "  </thead>\n",
       "  <tbody>\n",
       "    <tr>\n",
       "      <th>0</th>\n",
       "      <td>2.0</td>\n",
       "      <td>16.666667</td>\n",
       "    </tr>\n",
       "    <tr>\n",
       "      <th>1</th>\n",
       "      <td>3.0</td>\n",
       "      <td>9.000000</td>\n",
       "    </tr>\n",
       "    <tr>\n",
       "      <th>2</th>\n",
       "      <td>NaN</td>\n",
       "      <td>16.000000</td>\n",
       "    </tr>\n",
       "    <tr>\n",
       "      <th>3</th>\n",
       "      <td>5.0</td>\n",
       "      <td>25.000000</td>\n",
       "    </tr>\n",
       "  </tbody>\n",
       "</table>\n",
       "</div>"
      ],
      "text/plain": [
       "     A          B\n",
       "0  2.0  16.666667\n",
       "1  3.0   9.000000\n",
       "2  NaN  16.000000\n",
       "3  5.0  25.000000"
      ]
     },
     "execution_count": 69,
     "metadata": {},
     "output_type": "execute_result"
    }
   ],
   "source": [
    "dx"
   ]
  },
  {
   "cell_type": "code",
   "execution_count": null,
   "id": "3356b28d",
   "metadata": {},
   "outputs": [],
   "source": []
  },
  {
   "cell_type": "markdown",
   "id": "057d4637",
   "metadata": {},
   "source": [
    "### KNN Imputation\n",
    "KNN imputation is a fairer approach to the Simple Imputation method. It operates by replacing missing data with the average mean of the neighbors nearest to it.The algorithm uses ‘feature similarity’ to predict the values of any new data points. This means that the new point is assigned a value based on how closely it resembles the points in the training set.\n",
    "You can use KNN imputation for the MCAR or MAR categories. And to implement it in Python you use the KNN imputation transformer"
   ]
  },
  {
   "cell_type": "code",
   "execution_count": null,
   "id": "835c0767",
   "metadata": {},
   "outputs": [],
   "source": [
    "# use encoding for categorical data -"
   ]
  },
  {
   "cell_type": "code",
   "execution_count": null,
   "id": "20a77b78",
   "metadata": {},
   "outputs": [],
   "source": [
    "df_num_col = df.select_dtypes(include = 'number')\n",
    "df_cat_col = df.select_dtypes(include = 'object')"
   ]
  },
  {
   "cell_type": "code",
   "execution_count": null,
   "id": "ab419ff4",
   "metadata": {},
   "outputs": [],
   "source": [
    "from sklearn import preprocessing\n",
    "for col in df_cat:\n",
    "    le = LabelEncoder()\n",
    "    df_cat[col]= le.fit_transform(df_cat[col])\n",
    "    "
   ]
  },
  {
   "cell_type": "code",
   "execution_count": 83,
   "id": "e7cd2663",
   "metadata": {},
   "outputs": [
    {
     "data": {
      "text/html": [
       "<div>\n",
       "<style scoped>\n",
       "    .dataframe tbody tr th:only-of-type {\n",
       "        vertical-align: middle;\n",
       "    }\n",
       "\n",
       "    .dataframe tbody tr th {\n",
       "        vertical-align: top;\n",
       "    }\n",
       "\n",
       "    .dataframe thead th {\n",
       "        text-align: right;\n",
       "    }\n",
       "</style>\n",
       "<table border=\"1\" class=\"dataframe\">\n",
       "  <thead>\n",
       "    <tr style=\"text-align: right;\">\n",
       "      <th></th>\n",
       "      <th>A</th>\n",
       "      <th>B</th>\n",
       "    </tr>\n",
       "  </thead>\n",
       "  <tbody>\n",
       "    <tr>\n",
       "      <th>0</th>\n",
       "      <td>2.000000</td>\n",
       "      <td>16.666667</td>\n",
       "    </tr>\n",
       "    <tr>\n",
       "      <th>1</th>\n",
       "      <td>3.000000</td>\n",
       "      <td>9.000000</td>\n",
       "    </tr>\n",
       "    <tr>\n",
       "      <th>2</th>\n",
       "      <td>3.333333</td>\n",
       "      <td>16.000000</td>\n",
       "    </tr>\n",
       "    <tr>\n",
       "      <th>3</th>\n",
       "      <td>5.000000</td>\n",
       "      <td>25.000000</td>\n",
       "    </tr>\n",
       "  </tbody>\n",
       "</table>\n",
       "</div>"
      ],
      "text/plain": [
       "          A          B\n",
       "0  2.000000  16.666667\n",
       "1  3.000000   9.000000\n",
       "2  3.333333  16.000000\n",
       "3  5.000000  25.000000"
      ]
     },
     "execution_count": 83,
     "metadata": {},
     "output_type": "execute_result"
    }
   ],
   "source": [
    "from sklearn.impute import KNNImputer\n",
    "# I specify the nearest neighbor to be 3 \n",
    "knn = KNNImputer(n_neighbors=5)\n",
    "values = knn.fit_transform(dx)\n",
    "dx = pd.DataFrame(values,columns = dx.columns)\n",
    "dx"
   ]
  },
  {
   "cell_type": "code",
   "execution_count": null,
   "id": "431bc612",
   "metadata": {},
   "outputs": [],
   "source": []
  },
  {
   "cell_type": "code",
   "execution_count": null,
   "id": "60cb6e98",
   "metadata": {},
   "outputs": [],
   "source": []
  },
  {
   "cell_type": "code",
   "execution_count": null,
   "id": "d5d87ab3",
   "metadata": {},
   "outputs": [],
   "source": []
  },
  {
   "cell_type": "code",
   "execution_count": null,
   "id": "5c2eed1c",
   "metadata": {},
   "outputs": [],
   "source": []
  },
  {
   "cell_type": "markdown",
   "id": "9228652a",
   "metadata": {},
   "source": [
    "\n",
    "Deterministic Regression Imputation-\n",
    "In Deterministic Regression Imputation, we replace the missing data with the values predicted in our regression model and repeat this process for each variable.\n",
    "\n",
    "Stochastic Regression Imputation-\n",
    "To add uncertainity back to the imputed variable values, we can add some normally distributed noise with a mean of zero and the variance equal to the standard error of regression estimates . This method is called as Random Imputation or Stochastic Regression Imputation\n"
   ]
  },
  {
   "cell_type": "code",
   "execution_count": null,
   "id": "6a5588f9",
   "metadata": {},
   "outputs": [],
   "source": []
  },
  {
   "cell_type": "code",
   "execution_count": null,
   "id": "b4be27e8",
   "metadata": {},
   "outputs": [],
   "source": []
  },
  {
   "cell_type": "code",
   "execution_count": null,
   "id": "111e1c29",
   "metadata": {},
   "outputs": [],
   "source": []
  },
  {
   "cell_type": "code",
   "execution_count": null,
   "id": "18e52220",
   "metadata": {},
   "outputs": [],
   "source": []
  },
  {
   "cell_type": "code",
   "execution_count": null,
   "id": "ff08dc0a",
   "metadata": {},
   "outputs": [],
   "source": []
  },
  {
   "cell_type": "code",
   "execution_count": null,
   "id": "427c652e",
   "metadata": {},
   "outputs": [],
   "source": []
  },
  {
   "cell_type": "code",
   "execution_count": null,
   "id": "b6007eee",
   "metadata": {},
   "outputs": [],
   "source": []
  },
  {
   "cell_type": "code",
   "execution_count": null,
   "id": "f1644b26",
   "metadata": {},
   "outputs": [],
   "source": []
  },
  {
   "cell_type": "code",
   "execution_count": null,
   "id": "06e5ef52",
   "metadata": {},
   "outputs": [],
   "source": []
  },
  {
   "cell_type": "code",
   "execution_count": null,
   "id": "f40ee4e3",
   "metadata": {},
   "outputs": [],
   "source": []
  },
  {
   "cell_type": "code",
   "execution_count": null,
   "id": "39279681",
   "metadata": {},
   "outputs": [],
   "source": []
  }
 ],
 "metadata": {
  "kernelspec": {
   "display_name": "Python 3 (ipykernel)",
   "language": "python",
   "name": "python3"
  },
  "language_info": {
   "codemirror_mode": {
    "name": "ipython",
    "version": 3
   },
   "file_extension": ".py",
   "mimetype": "text/x-python",
   "name": "python",
   "nbconvert_exporter": "python",
   "pygments_lexer": "ipython3",
   "version": "3.9.12"
  }
 },
 "nbformat": 4,
 "nbformat_minor": 5
}
