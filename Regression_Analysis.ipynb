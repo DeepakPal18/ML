{
 "cells": [
  {
   "cell_type": "markdown",
   "metadata": {},
   "source": [
    "## Import the Libraries and Data"
   ]
  },
  {
   "cell_type": "code",
   "execution_count": 125,
   "metadata": {
    "jupyter": {
     "outputs_hidden": true
    }
   },
   "outputs": [],
   "source": [
    "# Let's import our libraries\n",
    "import numpy as np\n",
    "import pandas as pd\n",
    "import seaborn as sns\n",
    "import matplotlib.pyplot as plt\n",
    "from sklearn.metrics import r2_score,mean_squared_error,mean_absolute_error\n",
    "from sklearn.linear_model import LinearRegression\n",
    "from sklearn.model_selection import train_test_split"
   ]
  },
  {
   "cell_type": "code",
   "execution_count": 126,
   "metadata": {
    "jupyter": {
     "outputs_hidden": true
    }
   },
   "outputs": [],
   "source": [
    "# Since we are going to mae lot of visualization, let's set some visualization parameters in order to have same plots size\n",
    "plt.rcParams['figure.figsize'] = [12,6]\n",
    "sns.set_style('darkgrid')"
   ]
  },
  {
   "cell_type": "code",
   "execution_count": 127,
   "metadata": {},
   "outputs": [],
   "source": [
    "#house = pd.read_excel('/home/utkarsh/LearnBay/ML_Python/Maison.xlsx') ## Reading the data\n",
    "house = pd.read_csv(\"Maison.csv\")"
   ]
  },
  {
   "cell_type": "code",
   "execution_count": 128,
   "metadata": {},
   "outputs": [
    {
     "data": {
      "text/html": [
       "<div>\n",
       "<style scoped>\n",
       "    .dataframe tbody tr th:only-of-type {\n",
       "        vertical-align: middle;\n",
       "    }\n",
       "\n",
       "    .dataframe tbody tr th {\n",
       "        vertical-align: top;\n",
       "    }\n",
       "\n",
       "    .dataframe thead th {\n",
       "        text-align: right;\n",
       "    }\n",
       "</style>\n",
       "<table border=\"1\" class=\"dataframe\">\n",
       "  <thead>\n",
       "    <tr style=\"text-align: right;\">\n",
       "      <th></th>\n",
       "      <th>PRIX</th>\n",
       "      <th>SUPERFICIE</th>\n",
       "      <th>CHAMBRES</th>\n",
       "      <th>SDB</th>\n",
       "      <th>ETAGES</th>\n",
       "      <th>ALLEE</th>\n",
       "      <th>SALLEJEU</th>\n",
       "      <th>CAVE</th>\n",
       "      <th>GAZ</th>\n",
       "      <th>AIR</th>\n",
       "      <th>GARAGES</th>\n",
       "      <th>SITUATION</th>\n",
       "    </tr>\n",
       "  </thead>\n",
       "  <tbody>\n",
       "    <tr>\n",
       "      <th>0</th>\n",
       "      <td>42000</td>\n",
       "      <td>5850</td>\n",
       "      <td>3</td>\n",
       "      <td>1</td>\n",
       "      <td>2</td>\n",
       "      <td>1</td>\n",
       "      <td>0</td>\n",
       "      <td>1</td>\n",
       "      <td>0</td>\n",
       "      <td>0</td>\n",
       "      <td>1</td>\n",
       "      <td>0</td>\n",
       "    </tr>\n",
       "    <tr>\n",
       "      <th>1</th>\n",
       "      <td>38500</td>\n",
       "      <td>4000</td>\n",
       "      <td>2</td>\n",
       "      <td>1</td>\n",
       "      <td>1</td>\n",
       "      <td>1</td>\n",
       "      <td>0</td>\n",
       "      <td>0</td>\n",
       "      <td>0</td>\n",
       "      <td>0</td>\n",
       "      <td>0</td>\n",
       "      <td>0</td>\n",
       "    </tr>\n",
       "    <tr>\n",
       "      <th>2</th>\n",
       "      <td>49500</td>\n",
       "      <td>3060</td>\n",
       "      <td>3</td>\n",
       "      <td>1</td>\n",
       "      <td>1</td>\n",
       "      <td>1</td>\n",
       "      <td>0</td>\n",
       "      <td>0</td>\n",
       "      <td>0</td>\n",
       "      <td>0</td>\n",
       "      <td>0</td>\n",
       "      <td>0</td>\n",
       "    </tr>\n",
       "    <tr>\n",
       "      <th>3</th>\n",
       "      <td>60500</td>\n",
       "      <td>6650</td>\n",
       "      <td>3</td>\n",
       "      <td>1</td>\n",
       "      <td>2</td>\n",
       "      <td>1</td>\n",
       "      <td>1</td>\n",
       "      <td>0</td>\n",
       "      <td>0</td>\n",
       "      <td>0</td>\n",
       "      <td>0</td>\n",
       "      <td>0</td>\n",
       "    </tr>\n",
       "    <tr>\n",
       "      <th>4</th>\n",
       "      <td>61000</td>\n",
       "      <td>6360</td>\n",
       "      <td>2</td>\n",
       "      <td>1</td>\n",
       "      <td>1</td>\n",
       "      <td>1</td>\n",
       "      <td>0</td>\n",
       "      <td>0</td>\n",
       "      <td>0</td>\n",
       "      <td>0</td>\n",
       "      <td>0</td>\n",
       "      <td>0</td>\n",
       "    </tr>\n",
       "  </tbody>\n",
       "</table>\n",
       "</div>"
      ],
      "text/plain": [
       "    PRIX  SUPERFICIE  CHAMBRES  SDB  ETAGES  ALLEE  SALLEJEU  CAVE  GAZ  AIR  \\\n",
       "0  42000        5850         3    1       2      1         0     1    0    0   \n",
       "1  38500        4000         2    1       1      1         0     0    0    0   \n",
       "2  49500        3060         3    1       1      1         0     0    0    0   \n",
       "3  60500        6650         3    1       2      1         1     0    0    0   \n",
       "4  61000        6360         2    1       1      1         0     0    0    0   \n",
       "\n",
       "   GARAGES  SITUATION  \n",
       "0        1          0  \n",
       "1        0          0  \n",
       "2        0          0  \n",
       "3        0          0  \n",
       "4        0          0  "
      ]
     },
     "execution_count": 128,
     "metadata": {},
     "output_type": "execute_result"
    }
   ],
   "source": [
    "house.head()"
   ]
  },
  {
   "cell_type": "markdown",
   "metadata": {},
   "source": [
    "# Data Transformations & Analysis"
   ]
  },
  {
   "cell_type": "code",
   "execution_count": 129,
   "metadata": {
    "jupyter": {
     "outputs_hidden": true
    }
   },
   "outputs": [],
   "source": [
    "# Since the columns are in french, in order to make them more readable, let's translate them into English\n",
    "house = house.rename(index = str, columns = {'PRIX':'price','SUPERFICIE': 'area','CHAMBRES': 'rooms', \n",
    "                         'SDB': 'bathroom', 'ETAGES': 'floors','ALLEE': 'driveway',\n",
    "                         'SALLEJEU':'game_room', 'CAVE': 'cellar', \n",
    "                         'GAZ': 'gas', 'AIR':'air', 'GARAGES': 'garage', 'SITUATION': 'situation'})"
   ]
  },
  {
   "cell_type": "code",
   "execution_count": 130,
   "metadata": {
    "scrolled": true
   },
   "outputs": [
    {
     "data": {
      "text/html": [
       "<div>\n",
       "<style scoped>\n",
       "    .dataframe tbody tr th:only-of-type {\n",
       "        vertical-align: middle;\n",
       "    }\n",
       "\n",
       "    .dataframe tbody tr th {\n",
       "        vertical-align: top;\n",
       "    }\n",
       "\n",
       "    .dataframe thead th {\n",
       "        text-align: right;\n",
       "    }\n",
       "</style>\n",
       "<table border=\"1\" class=\"dataframe\">\n",
       "  <thead>\n",
       "    <tr style=\"text-align: right;\">\n",
       "      <th></th>\n",
       "      <th>price</th>\n",
       "      <th>area</th>\n",
       "      <th>rooms</th>\n",
       "      <th>bathroom</th>\n",
       "      <th>floors</th>\n",
       "      <th>driveway</th>\n",
       "      <th>game_room</th>\n",
       "      <th>cellar</th>\n",
       "      <th>gas</th>\n",
       "      <th>air</th>\n",
       "      <th>garage</th>\n",
       "      <th>situation</th>\n",
       "    </tr>\n",
       "  </thead>\n",
       "  <tbody>\n",
       "    <tr>\n",
       "      <th>0</th>\n",
       "      <td>42000</td>\n",
       "      <td>5850</td>\n",
       "      <td>3</td>\n",
       "      <td>1</td>\n",
       "      <td>2</td>\n",
       "      <td>1</td>\n",
       "      <td>0</td>\n",
       "      <td>1</td>\n",
       "      <td>0</td>\n",
       "      <td>0</td>\n",
       "      <td>1</td>\n",
       "      <td>0</td>\n",
       "    </tr>\n",
       "    <tr>\n",
       "      <th>1</th>\n",
       "      <td>38500</td>\n",
       "      <td>4000</td>\n",
       "      <td>2</td>\n",
       "      <td>1</td>\n",
       "      <td>1</td>\n",
       "      <td>1</td>\n",
       "      <td>0</td>\n",
       "      <td>0</td>\n",
       "      <td>0</td>\n",
       "      <td>0</td>\n",
       "      <td>0</td>\n",
       "      <td>0</td>\n",
       "    </tr>\n",
       "    <tr>\n",
       "      <th>2</th>\n",
       "      <td>49500</td>\n",
       "      <td>3060</td>\n",
       "      <td>3</td>\n",
       "      <td>1</td>\n",
       "      <td>1</td>\n",
       "      <td>1</td>\n",
       "      <td>0</td>\n",
       "      <td>0</td>\n",
       "      <td>0</td>\n",
       "      <td>0</td>\n",
       "      <td>0</td>\n",
       "      <td>0</td>\n",
       "    </tr>\n",
       "    <tr>\n",
       "      <th>3</th>\n",
       "      <td>60500</td>\n",
       "      <td>6650</td>\n",
       "      <td>3</td>\n",
       "      <td>1</td>\n",
       "      <td>2</td>\n",
       "      <td>1</td>\n",
       "      <td>1</td>\n",
       "      <td>0</td>\n",
       "      <td>0</td>\n",
       "      <td>0</td>\n",
       "      <td>0</td>\n",
       "      <td>0</td>\n",
       "    </tr>\n",
       "    <tr>\n",
       "      <th>4</th>\n",
       "      <td>61000</td>\n",
       "      <td>6360</td>\n",
       "      <td>2</td>\n",
       "      <td>1</td>\n",
       "      <td>1</td>\n",
       "      <td>1</td>\n",
       "      <td>0</td>\n",
       "      <td>0</td>\n",
       "      <td>0</td>\n",
       "      <td>0</td>\n",
       "      <td>0</td>\n",
       "      <td>0</td>\n",
       "    </tr>\n",
       "  </tbody>\n",
       "</table>\n",
       "</div>"
      ],
      "text/plain": [
       "   price  area  rooms  bathroom  floors  driveway  game_room  cellar  gas  \\\n",
       "0  42000  5850      3         1       2         1          0       1    0   \n",
       "1  38500  4000      2         1       1         1          0       0    0   \n",
       "2  49500  3060      3         1       1         1          0       0    0   \n",
       "3  60500  6650      3         1       2         1          1       0    0   \n",
       "4  61000  6360      2         1       1         1          0       0    0   \n",
       "\n",
       "   air  garage  situation  \n",
       "0    0       1          0  \n",
       "1    0       0          0  \n",
       "2    0       0          0  \n",
       "3    0       0          0  \n",
       "4    0       0          0  "
      ]
     },
     "execution_count": 130,
     "metadata": {},
     "output_type": "execute_result"
    }
   ],
   "source": [
    "house.head()"
   ]
  },
  {
   "cell_type": "code",
   "execution_count": 131,
   "metadata": {},
   "outputs": [
    {
     "data": {
      "image/png": "[encoded data removed]",
      "text/plain": [
       "<Figure size 864x432 with 1 Axes>"
      ]
     },
     "metadata": {},
     "output_type": "display_data"
    }
   ],
   "source": [
    "# Let's see ig we have a linear relation between price and area\n",
    "#sns.palettes(house['area'], house['price'], palette = 'viridis')\n",
    "plt.scatter(house['area'], house['price'])\n",
    "plt.show()"
   ]
  },
  {
   "cell_type": "code",
   "execution_count": 132,
   "metadata": {},
   "outputs": [
    {
     "data": {
      "text/plain": [
       "<seaborn.axisgrid.FacetGrid at 0x19a3424e8e0>"
      ]
     },
     "execution_count": 132,
     "metadata": {},
     "output_type": "execute_result"
    },
    {
     "data": {
      "image/png": "[encoded data removed]",
      "text/plain": [
       "<Figure size 864x432 with 1 Axes>"
      ]
     },
     "metadata": {},
     "output_type": "display_data"
    }
   ],
   "source": [
    "sns.lmplot(data = house, x = 'area', y = 'price', height = 6, aspect = 2)"
   ]
  },
  {
   "cell_type": "code",
   "execution_count": 133,
   "metadata": {},
   "outputs": [
    {
     "data": {
      "image/png": "[encoded data removed]",
      "text/plain": [
       "<Figure size 864x432 with 1 Axes>"
      ]
     },
     "metadata": {},
     "output_type": "display_data"
    }
   ],
   "source": [
    "import warnings\n",
    "warnings.filterwarnings('ignore')\n",
    "sns.distplot(house['price'])\n",
    "plt.show()"
   ]
  },
  {
   "cell_type": "code",
   "execution_count": 134,
   "metadata": {},
   "outputs": [
    {
     "data": {
      "image/png": "[encoded data removed]",
      "text/plain": [
       "<Figure size 864x432 with 1 Axes>"
      ]
     },
     "metadata": {},
     "output_type": "display_data"
    }
   ],
   "source": [
    "sns.distplot(house['area'])\n",
    "plt.show()"
   ]
  },
  {
   "cell_type": "code",
   "execution_count": 135,
   "metadata": {},
   "outputs": [
    {
     "data": {
      "text/plain": [
       "Index(['price', 'area', 'rooms', 'bathroom', 'floors', 'driveway', 'game_room',\n",
       "       'cellar', 'gas', 'air', 'garage', 'situation'],\n",
       "      dtype='object')"
      ]
     },
     "execution_count": 135,
     "metadata": {},
     "output_type": "execute_result"
    }
   ],
   "source": [
    "house.columns"
   ]
  },
  {
   "cell_type": "markdown",
   "metadata": {},
   "source": [
    "## Standardize data"
   ]
  },
  {
   "cell_type": "code",
   "execution_count": 136,
   "metadata": {},
   "outputs": [],
   "source": [
    "house1 = house.iloc[:,:].values  #standardize the data to normal distribution\n",
    "from sklearn import preprocessing\n",
    "housex = preprocessing.scale(house1)\n",
    "house = pd.DataFrame(housex, columns=house.columns) # columns=house.columns[2:6] if iloc[:,2:6]"
   ]
  },
  {
   "cell_type": "code",
   "execution_count": 138,
   "metadata": {
    "jupyter": {
     "outputs_hidden": true
    }
   },
   "outputs": [],
   "source": [
    "# Import the libraries\n",
    "from sklearn.linear_model import LinearRegression\n",
    "from sklearn.model_selection import train_test_split"
   ]
  },
  {
   "cell_type": "code",
   "execution_count": 139,
   "metadata": {
    "jupyter": {
     "outputs_hidden": true
    }
   },
   "outputs": [],
   "source": [
    "# We now instatiate a Linear Regression object\n",
    "lm = LinearRegression()"
   ]
  },
  {
   "cell_type": "code",
   "execution_count": 140,
   "metadata": {
    "jupyter": {
     "outputs_hidden": true
    }
   },
   "outputs": [],
   "source": [
    "# let's do the split of the dataset\n",
    "house.columns\n",
    "X = house[['area', 'rooms', 'bathroom', 'floors', 'driveway', 'game_room',\n",
    "       'cellar', 'gas', 'air', 'garage', 'situation']]\n",
    "y = house['price']"
   ]
  },
  {
   "cell_type": "code",
   "execution_count": 141,
   "metadata": {
    "jupyter": {
     "outputs_hidden": true
    }
   },
   "outputs": [],
   "source": [
    "X_train, X_test, y_train, y_test = train_test_split( X, y, test_size=0.3, random_state=101)"
   ]
  },
  {
   "cell_type": "code",
   "execution_count": 142,
   "metadata": {},
   "outputs": [
    {
     "data": {
      "text/html": [
       "<div>\n",
       "<style scoped>\n",
       "    .dataframe tbody tr th:only-of-type {\n",
       "        vertical-align: middle;\n",
       "    }\n",
       "\n",
       "    .dataframe tbody tr th {\n",
       "        vertical-align: top;\n",
       "    }\n",
       "\n",
       "    .dataframe thead th {\n",
       "        text-align: right;\n",
       "    }\n",
       "</style>\n",
       "<table border=\"1\" class=\"dataframe\">\n",
       "  <thead>\n",
       "    <tr style=\"text-align: right;\">\n",
       "      <th></th>\n",
       "      <th>area</th>\n",
       "      <th>rooms</th>\n",
       "      <th>bathroom</th>\n",
       "      <th>floors</th>\n",
       "      <th>driveway</th>\n",
       "      <th>game_room</th>\n",
       "      <th>cellar</th>\n",
       "      <th>gas</th>\n",
       "      <th>air</th>\n",
       "      <th>garage</th>\n",
       "      <th>situation</th>\n",
       "    </tr>\n",
       "  </thead>\n",
       "  <tbody>\n",
       "    <tr>\n",
       "      <th>225</th>\n",
       "      <td>-1.084986</td>\n",
       "      <td>0.047235</td>\n",
       "      <td>1.423737</td>\n",
       "      <td>0.221704</td>\n",
       "      <td>-2.467977</td>\n",
       "      <td>-0.464796</td>\n",
       "      <td>1.363319</td>\n",
       "      <td>-0.219054</td>\n",
       "      <td>1.468356</td>\n",
       "      <td>0.357567</td>\n",
       "      <td>-0.553372</td>\n",
       "    </tr>\n",
       "    <tr>\n",
       "      <th>18</th>\n",
       "      <td>-0.784917</td>\n",
       "      <td>-2.667529</td>\n",
       "      <td>-0.569495</td>\n",
       "      <td>-0.931157</td>\n",
       "      <td>0.405190</td>\n",
       "      <td>-0.464796</td>\n",
       "      <td>-0.733504</td>\n",
       "      <td>-0.219054</td>\n",
       "      <td>-0.681034</td>\n",
       "      <td>-0.804525</td>\n",
       "      <td>-0.553372</td>\n",
       "    </tr>\n",
       "    <tr>\n",
       "      <th>48</th>\n",
       "      <td>-0.087835</td>\n",
       "      <td>1.404617</td>\n",
       "      <td>-0.569495</td>\n",
       "      <td>1.374565</td>\n",
       "      <td>-2.467977</td>\n",
       "      <td>-0.464796</td>\n",
       "      <td>-0.733504</td>\n",
       "      <td>-0.219054</td>\n",
       "      <td>-0.681034</td>\n",
       "      <td>-0.804525</td>\n",
       "      <td>-0.553372</td>\n",
       "    </tr>\n",
       "    <tr>\n",
       "      <th>355</th>\n",
       "      <td>2.363032</td>\n",
       "      <td>0.047235</td>\n",
       "      <td>-0.569495</td>\n",
       "      <td>-0.931157</td>\n",
       "      <td>0.405190</td>\n",
       "      <td>-0.464796</td>\n",
       "      <td>-0.733504</td>\n",
       "      <td>-0.219054</td>\n",
       "      <td>-0.681034</td>\n",
       "      <td>0.357567</td>\n",
       "      <td>1.807104</td>\n",
       "    </tr>\n",
       "    <tr>\n",
       "      <th>350</th>\n",
       "      <td>2.174220</td>\n",
       "      <td>0.047235</td>\n",
       "      <td>-0.569495</td>\n",
       "      <td>-0.931157</td>\n",
       "      <td>0.405190</td>\n",
       "      <td>-0.464796</td>\n",
       "      <td>-0.733504</td>\n",
       "      <td>-0.219054</td>\n",
       "      <td>-0.681034</td>\n",
       "      <td>-0.804525</td>\n",
       "      <td>-0.553372</td>\n",
       "    </tr>\n",
       "  </tbody>\n",
       "</table>\n",
       "</div>"
      ],
      "text/plain": [
       "         area     rooms  bathroom    floors  driveway  game_room    cellar  \\\n",
       "225 -1.084986  0.047235  1.423737  0.221704 -2.467977  -0.464796  1.363319   \n",
       "18  -0.784917 -2.667529 -0.569495 -0.931157  0.405190  -0.464796 -0.733504   \n",
       "48  -0.087835  1.404617 -0.569495  1.374565 -2.467977  -0.464796 -0.733504   \n",
       "355  2.363032  0.047235 -0.569495 -0.931157  0.405190  -0.464796 -0.733504   \n",
       "350  2.174220  0.047235 -0.569495 -0.931157  0.405190  -0.464796 -0.733504   \n",
       "\n",
       "          gas       air    garage  situation  \n",
       "225 -0.219054  1.468356  0.357567  -0.553372  \n",
       "18  -0.219054 -0.681034 -0.804525  -0.553372  \n",
       "48  -0.219054 -0.681034 -0.804525  -0.553372  \n",
       "355 -0.219054 -0.681034  0.357567   1.807104  \n",
       "350 -0.219054 -0.681034 -0.804525  -0.553372  "
      ]
     },
     "execution_count": 142,
     "metadata": {},
     "output_type": "execute_result"
    }
   ],
   "source": [
    "## Let's chec the head of some of these splits\n",
    "X_test.head()\n",
    "# We see that they are randomly selected"
   ]
  },
  {
   "cell_type": "code",
   "execution_count": 143,
   "metadata": {
    "jupyter": {
     "outputs_hidden": true
    }
   },
   "outputs": [
    {
     "data": {
      "text/plain": [
       "LinearRegression()"
      ]
     },
     "execution_count": 143,
     "metadata": {},
     "output_type": "execute_result"
    }
   ],
   "source": [
    "# Now let's build the model using sklearn\n",
    "lm.fit(X_test,y_test)"
   ]
  },
  {
   "cell_type": "code",
   "execution_count": 144,
   "metadata": {
    "jupyter": {
     "outputs_hidden": true
    }
   },
   "outputs": [
    {
     "name": "stdout",
     "output_type": "stream",
     "text": [
      "[0.22526122 0.01320334 0.2793606  0.20499524 0.14389589 0.05962461\n",
      " 0.17957573 0.06146765 0.21677806 0.06822348 0.11743385]\n"
     ]
    }
   ],
   "source": [
    "# Now let's look at the coefficients\n",
    "print(lm.coef_)\n",
    "# it would be nicer if we can put them together in a dataframe"
   ]
  },
  {
   "cell_type": "code",
   "execution_count": 145,
   "metadata": {
    "tags": []
   },
   "outputs": [
    {
     "data": {
      "text/html": [
       "<div>\n",
       "<style scoped>\n",
       "    .dataframe tbody tr th:only-of-type {\n",
       "        vertical-align: middle;\n",
       "    }\n",
       "\n",
       "    .dataframe tbody tr th {\n",
       "        vertical-align: top;\n",
       "    }\n",
       "\n",
       "    .dataframe thead th {\n",
       "        text-align: right;\n",
       "    }\n",
       "</style>\n",
       "<table border=\"1\" class=\"dataframe\">\n",
       "  <thead>\n",
       "    <tr style=\"text-align: right;\">\n",
       "      <th></th>\n",
       "      <th>Coefficients</th>\n",
       "    </tr>\n",
       "  </thead>\n",
       "  <tbody>\n",
       "    <tr>\n",
       "      <th>area</th>\n",
       "      <td>0.225261</td>\n",
       "    </tr>\n",
       "    <tr>\n",
       "      <th>rooms</th>\n",
       "      <td>0.013203</td>\n",
       "    </tr>\n",
       "    <tr>\n",
       "      <th>bathroom</th>\n",
       "      <td>0.279361</td>\n",
       "    </tr>\n",
       "    <tr>\n",
       "      <th>floors</th>\n",
       "      <td>0.204995</td>\n",
       "    </tr>\n",
       "    <tr>\n",
       "      <th>driveway</th>\n",
       "      <td>0.143896</td>\n",
       "    </tr>\n",
       "    <tr>\n",
       "      <th>game_room</th>\n",
       "      <td>0.059625</td>\n",
       "    </tr>\n",
       "    <tr>\n",
       "      <th>cellar</th>\n",
       "      <td>0.179576</td>\n",
       "    </tr>\n",
       "    <tr>\n",
       "      <th>gas</th>\n",
       "      <td>0.061468</td>\n",
       "    </tr>\n",
       "    <tr>\n",
       "      <th>air</th>\n",
       "      <td>0.216778</td>\n",
       "    </tr>\n",
       "    <tr>\n",
       "      <th>garage</th>\n",
       "      <td>0.068223</td>\n",
       "    </tr>\n",
       "    <tr>\n",
       "      <th>situation</th>\n",
       "      <td>0.117434</td>\n",
       "    </tr>\n",
       "  </tbody>\n",
       "</table>\n",
       "</div>"
      ],
      "text/plain": [
       "           Coefficients\n",
       "area           0.225261\n",
       "rooms          0.013203\n",
       "bathroom       0.279361\n",
       "floors         0.204995\n",
       "driveway       0.143896\n",
       "game_room      0.059625\n",
       "cellar         0.179576\n",
       "gas            0.061468\n",
       "air            0.216778\n",
       "garage         0.068223\n",
       "situation      0.117434"
      ]
     },
     "execution_count": 145,
     "metadata": {},
     "output_type": "execute_result"
    }
   ],
   "source": [
    "coef = pd.DataFrame(lm.coef_, X.columns, columns = ['Coefficients'])\n",
    "coef"
   ]
  },
  {
   "cell_type": "code",
   "execution_count": 146,
   "metadata": {},
   "outputs": [],
   "source": [
    "predictions = lm.predict(X_test)"
   ]
  },
  {
   "cell_type": "code",
   "execution_count": 147,
   "metadata": {},
   "outputs": [
    {
     "data": {
      "text/plain": [
       "<AxesSubplot:xlabel='price'>"
      ]
     },
     "execution_count": 147,
     "metadata": {},
     "output_type": "execute_result"
    },
    {
     "data": {
      "image/png": "[encoded data removed]",
      "text/plain": [
       "<Figure size 864x432 with 1 Axes>"
      ]
     },
     "metadata": {},
     "output_type": "display_data"
    }
   ],
   "source": [
    "# To check the quality of our model, let's plot it\n",
    "sns.scatterplot(y_test, predictions)"
   ]
  },
  {
   "cell_type": "code",
   "execution_count": 148,
   "metadata": {},
   "outputs": [
    {
     "name": "stdout",
     "output_type": "stream",
     "text": [
      "r2_score: 0.680602815192172\n"
     ]
    }
   ],
   "source": [
    "print(\"r2_score:\",r2_score(y_test, predictions))"
   ]
  },
  {
   "cell_type": "code",
   "execution_count": 149,
   "metadata": {},
   "outputs": [
    {
     "data": {
      "text/plain": [
       "0.38416310787028896"
      ]
     },
     "execution_count": 149,
     "metadata": {},
     "output_type": "execute_result"
    }
   ],
   "source": [
    "#MAE\n",
    "mean_absolute_error(y_test, predictions)"
   ]
  },
  {
   "cell_type": "code",
   "execution_count": 150,
   "metadata": {},
   "outputs": [
    {
     "data": {
      "text/plain": [
       "0.2645837812101742"
      ]
     },
     "execution_count": 150,
     "metadata": {},
     "output_type": "execute_result"
    }
   ],
   "source": [
    "#MSE\n",
    "mean_squared_error(y_test, predictions)"
   ]
  },
  {
   "cell_type": "code",
   "execution_count": 151,
   "metadata": {},
   "outputs": [
    {
     "name": "stdout",
     "output_type": "stream",
     "text": [
      "0.5143770807590227\n"
     ]
    }
   ],
   "source": [
    "#RMSE\n",
    "print(np.sqrt(mean_squared_error(y_test, predictions)))"
   ]
  },
  {
   "cell_type": "code",
   "execution_count": null,
   "metadata": {},
   "outputs": [],
   "source": []
  },
  {
   "cell_type": "code",
   "execution_count": 18,
   "metadata": {
    "jupyter": {
     "outputs_hidden": true
    }
   },
   "outputs": [],
   "source": []
  },
  {
   "cell_type": "code",
   "execution_count": 152,
   "metadata": {
    "jupyter": {
     "outputs_hidden": true
    }
   },
   "outputs": [],
   "source": [
    "# method with sm lib-\n",
    "# Unlike sklearn that adds an intercept to our data for the best fit, statsmodel doesn't. We need to add it ourselves\n",
    "# Remember, we want to predict the price based off our features.\n",
    "# X represents our predictor variables, and y our predicted variable.\n",
    "# We need now to add manually the intercepts\n",
    "import statsmodels.api as sm\n",
    "X_endog = sm.add_constant(X_test)"
   ]
  },
  {
   "cell_type": "code",
   "execution_count": 153,
   "metadata": {},
   "outputs": [
    {
     "data": {
      "text/plain": [
       "<statsmodels.regression.linear_model.RegressionResultsWrapper at 0x19a34cf6f40>"
      ]
     },
     "execution_count": 153,
     "metadata": {},
     "output_type": "execute_result"
    }
   ],
   "source": [
    "res = sm.OLS(y_test, X_endog)\n",
    "res.fit()"
   ]
  },
  {
   "cell_type": "code",
   "execution_count": 154,
   "metadata": {},
   "outputs": [
    {
     "data": {
      "text/html": [
       "<table class=\"simpletable\">\n",
       "<caption>OLS Regression Results</caption>\n",
       "<tr>\n",
       "  <th>Dep. Variable:</th>          <td>price</td>      <th>  R-squared:         </th> <td>   0.681</td>\n",
       "</tr>\n",
       "<tr>\n",
       "  <th>Model:</th>                   <td>OLS</td>       <th>  Adj. R-squared:    </th> <td>   0.657</td>\n",
       "</tr>\n",
       "<tr>\n",
       "  <th>Method:</th>             <td>Least Squares</td>  <th>  F-statistic:       </th> <td>   29.45</td>\n",
       "</tr>\n",
       "<tr>\n",
       "  <th>Date:</th>             <td>Thu, 06 Oct 2022</td> <th>  Prob (F-statistic):</th> <td>2.53e-32</td>\n",
       "</tr>\n",
       "<tr>\n",
       "  <th>Time:</th>                 <td>13:45:46</td>     <th>  Log-Likelihood:    </th> <td> -123.68</td>\n",
       "</tr>\n",
       "<tr>\n",
       "  <th>No. Observations:</th>      <td>   164</td>      <th>  AIC:               </th> <td>   271.4</td>\n",
       "</tr>\n",
       "<tr>\n",
       "  <th>Df Residuals:</th>          <td>   152</td>      <th>  BIC:               </th> <td>   308.6</td>\n",
       "</tr>\n",
       "<tr>\n",
       "  <th>Df Model:</th>              <td>    11</td>      <th>                     </th>     <td> </td>   \n",
       "</tr>\n",
       "<tr>\n",
       "  <th>Covariance Type:</th>      <td>nonrobust</td>    <th>                     </th>     <td> </td>   \n",
       "</tr>\n",
       "</table>\n",
       "<table class=\"simpletable\">\n",
       "<tr>\n",
       "      <td></td>         <th>coef</th>     <th>std err</th>      <th>t</th>      <th>P>|t|</th>  <th>[0.025</th>    <th>0.975]</th>  \n",
       "</tr>\n",
       "<tr>\n",
       "  <th>const</th>     <td>   -0.0524</td> <td>    0.043</td> <td>   -1.220</td> <td> 0.224</td> <td>   -0.137</td> <td>    0.032</td>\n",
       "</tr>\n",
       "<tr>\n",
       "  <th>area</th>      <td>    0.2253</td> <td>    0.046</td> <td>    4.890</td> <td> 0.000</td> <td>    0.134</td> <td>    0.316</td>\n",
       "</tr>\n",
       "<tr>\n",
       "  <th>rooms</th>     <td>    0.0132</td> <td>    0.046</td> <td>    0.287</td> <td> 0.775</td> <td>   -0.078</td> <td>    0.104</td>\n",
       "</tr>\n",
       "<tr>\n",
       "  <th>bathroom</th>  <td>    0.2794</td> <td>    0.050</td> <td>    5.603</td> <td> 0.000</td> <td>    0.181</td> <td>    0.378</td>\n",
       "</tr>\n",
       "<tr>\n",
       "  <th>floors</th>    <td>    0.2050</td> <td>    0.059</td> <td>    3.473</td> <td> 0.001</td> <td>    0.088</td> <td>    0.322</td>\n",
       "</tr>\n",
       "<tr>\n",
       "  <th>driveway</th>  <td>    0.1439</td> <td>    0.042</td> <td>    3.408</td> <td> 0.001</td> <td>    0.060</td> <td>    0.227</td>\n",
       "</tr>\n",
       "<tr>\n",
       "  <th>game_room</th> <td>    0.0596</td> <td>    0.047</td> <td>    1.266</td> <td> 0.207</td> <td>   -0.033</td> <td>    0.153</td>\n",
       "</tr>\n",
       "<tr>\n",
       "  <th>cellar</th>    <td>    0.1796</td> <td>    0.048</td> <td>    3.736</td> <td> 0.000</td> <td>    0.085</td> <td>    0.275</td>\n",
       "</tr>\n",
       "<tr>\n",
       "  <th>gas</th>       <td>    0.0615</td> <td>    0.049</td> <td>    1.261</td> <td> 0.209</td> <td>   -0.035</td> <td>    0.158</td>\n",
       "</tr>\n",
       "<tr>\n",
       "  <th>air</th>       <td>    0.2168</td> <td>    0.047</td> <td>    4.596</td> <td> 0.000</td> <td>    0.124</td> <td>    0.310</td>\n",
       "</tr>\n",
       "<tr>\n",
       "  <th>garage</th>    <td>    0.0682</td> <td>    0.045</td> <td>    1.515</td> <td> 0.132</td> <td>   -0.021</td> <td>    0.157</td>\n",
       "</tr>\n",
       "<tr>\n",
       "  <th>situation</th> <td>    0.1174</td> <td>    0.048</td> <td>    2.460</td> <td> 0.015</td> <td>    0.023</td> <td>    0.212</td>\n",
       "</tr>\n",
       "</table>\n",
       "<table class=\"simpletable\">\n",
       "<tr>\n",
       "  <th>Omnibus:</th>       <td>17.037</td> <th>  Durbin-Watson:     </th> <td>   2.241</td>\n",
       "</tr>\n",
       "<tr>\n",
       "  <th>Prob(Omnibus):</th> <td> 0.000</td> <th>  Jarque-Bera (JB):  </th> <td>  28.373</td>\n",
       "</tr>\n",
       "<tr>\n",
       "  <th>Skew:</th>          <td> 0.535</td> <th>  Prob(JB):          </th> <td>6.90e-07</td>\n",
       "</tr>\n",
       "<tr>\n",
       "  <th>Kurtosis:</th>      <td> 4.734</td> <th>  Cond. No.          </th> <td>    2.58</td>\n",
       "</tr>\n",
       "</table><br/><br/>Notes:<br/>[1] Standard Errors assume that the covariance matrix of the errors is correctly specified."
      ],
      "text/plain": [
       "<class 'statsmodels.iolib.summary.Summary'>\n",
       "\"\"\"\n",
       "                            OLS Regression Results                            \n",
       "==============================================================================\n",
       "Dep. Variable:                  price   R-squared:                       0.681\n",
       "Model:                            OLS   Adj. R-squared:                  0.657\n",
       "Method:                 Least Squares   F-statistic:                     29.45\n",
       "Date:                Thu, 06 Oct 2022   Prob (F-statistic):           2.53e-32\n",
       "Time:                        13:45:46   Log-Likelihood:                -123.68\n",
       "No. Observations:                 164   AIC:                             271.4\n",
       "Df Residuals:                     152   BIC:                             308.6\n",
       "Df Model:                          11                                         \n",
       "Covariance Type:            nonrobust                                         \n",
       "==============================================================================\n",
       "                 coef    std err          t      P>|t|      [0.025      0.975]\n",
       "------------------------------------------------------------------------------\n",
       "const         -0.0524      0.043     -1.220      0.224      -0.137       0.032\n",
       "area           0.2253      0.046      4.890      0.000       0.134       0.316\n",
       "rooms          0.0132      0.046      0.287      0.775      -0.078       0.104\n",
       "bathroom       0.2794      0.050      5.603      0.000       0.181       0.378\n",
       "floors         0.2050      0.059      3.473      0.001       0.088       0.322\n",
       "driveway       0.1439      0.042      3.408      0.001       0.060       0.227\n",
       "game_room      0.0596      0.047      1.266      0.207      -0.033       0.153\n",
       "cellar         0.1796      0.048      3.736      0.000       0.085       0.275\n",
       "gas            0.0615      0.049      1.261      0.209      -0.035       0.158\n",
       "air            0.2168      0.047      4.596      0.000       0.124       0.310\n",
       "garage         0.0682      0.045      1.515      0.132      -0.021       0.157\n",
       "situation      0.1174      0.048      2.460      0.015       0.023       0.212\n",
       "==============================================================================\n",
       "Omnibus:                       17.037   Durbin-Watson:                   2.241\n",
       "Prob(Omnibus):                  0.000   Jarque-Bera (JB):               28.373\n",
       "Skew:                           0.535   Prob(JB):                     6.90e-07\n",
       "Kurtosis:                       4.734   Cond. No.                         2.58\n",
       "==============================================================================\n",
       "\n",
       "Notes:\n",
       "[1] Standard Errors assume that the covariance matrix of the errors is correctly specified.\n",
       "\"\"\""
      ]
     },
     "execution_count": 154,
     "metadata": {},
     "output_type": "execute_result"
    }
   ],
   "source": [
    "res.fit().summary()"
   ]
  },
  {
   "cell_type": "code",
   "execution_count": 23,
   "metadata": {
    "jupyter": {
     "outputs_hidden": true
    }
   },
   "outputs": [],
   "source": [
    "# Evaluation metrics\n",
    "# Mean Absolute Error (MAE)\n",
    "# Mean Squared Error (MSE)\n",
    "# Root Mean Squared Error(RMSE)\n",
    "#import numpy as np\n",
    "#from sklearn import metrics\n",
    "\n",
    "#print('MAE :', metrics.mean_absolute_error(y_test, predictions))\n",
    "#print('MSE :', metrics.mean_squared_error(y_test, predictions))\n",
    "#print('RMSE :', np.sqrt(metrics.mean_squared_error(y_test, predictions)))\n",
    "\n",
    "MAE : 10248.782807401953\n",
    "MSE : 188311345.17713058\n",
    "RMSE : 13722.658094448414"
   ]
  },
  {
   "cell_type": "code",
   "execution_count": 155,
   "metadata": {},
   "outputs": [],
   "source": [
    "X_endog_test = sm.add_constant(X_test)\n",
    "model = res.fit()\n",
    "predictions = model.predict(X_endog_test)"
   ]
  },
  {
   "cell_type": "code",
   "execution_count": 156,
   "metadata": {},
   "outputs": [
    {
     "data": {
      "text/plain": [
       "225    0.273216\n",
       "18    -0.996519\n",
       "48    -0.726503\n",
       "355    0.104917\n",
       "350   -0.294097\n",
       "         ...   \n",
       "401    0.769926\n",
       "189   -0.239442\n",
       "43     1.117195\n",
       "36    -0.541536\n",
       "405    0.764655\n",
       "Length: 164, dtype: float64"
      ]
     },
     "execution_count": 156,
     "metadata": {},
     "output_type": "execute_result"
    }
   ],
   "source": [
    "predictions"
   ]
  },
  {
   "cell_type": "code",
   "execution_count": null,
   "metadata": {
    "collapsed": true,
    "jupyter": {
     "outputs_hidden": true
    }
   },
   "outputs": [],
   "source": []
  }
 ],
 "metadata": {
  "kernelspec": {
   "display_name": "Python 3 (ipykernel)",
   "language": "python",
   "name": "python3"
  },
  "language_info": {
   "codemirror_mode": {
    "name": "ipython",
    "version": 3
   },
   "file_extension": ".py",
   "mimetype": "text/x-python",
   "name": "python",
   "nbconvert_exporter": "python",
   "pygments_lexer": "ipython3",
   "version": "3.9.12"
  }
 },
 "nbformat": 4,
 "nbformat_minor": 4
}
